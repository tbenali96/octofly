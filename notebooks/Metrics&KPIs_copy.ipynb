{
 "cells": [
  {
   "cell_type": "code",
   "execution_count": 1,
   "metadata": {},
   "outputs": [],
   "source": [
    "import numpy as np\n",
    "import pandas as pd \n",
    "import pandas_profiling as pp\n",
    "import plotly.express as px \n",
    "import sqlite3\n",
    "import random\n",
    "from sklearn.metrics import mean_squared_error\n",
    "\n",
    "pd.options.display.max_columns = None"
   ]
  },
  {
   "cell_type": "markdown",
   "metadata": {},
   "source": [
    "## Import des datasets "
   ]
  },
  {
   "cell_type": "code",
   "execution_count": 2,
   "metadata": {},
   "outputs": [],
   "source": [
    "df_aeroports = pd.read_parquet(\"../data/aggregated_data/aeroports.gzip\")\n",
    "df_compagnies = pd.read_parquet(\"../data/aggregated_data/compagnies.gzip\")\n",
    "df_vols = pd.read_parquet(\"../data/aggregated_data/vols.gzip\")\n",
    "df_fuel = pd.read_parquet(\"../data/aggregated_data/prix_fuel.gzip\")\n",
    "df_test = pd.read_parquet(\"../data/extracted/test_data/vols.gzip\")"
   ]
  },
  {
   "cell_type": "code",
   "execution_count": 18,
   "metadata": {},
   "outputs": [
    {
     "data": {
      "text/html": [
       "<div>\n",
       "<style scoped>\n",
       "    .dataframe tbody tr th:only-of-type {\n",
       "        vertical-align: middle;\n",
       "    }\n",
       "\n",
       "    .dataframe tbody tr th {\n",
       "        vertical-align: top;\n",
       "    }\n",
       "\n",
       "    .dataframe thead th {\n",
       "        text-align: right;\n",
       "    }\n",
       "</style>\n",
       "<table border=\"1\" class=\"dataframe\">\n",
       "  <thead>\n",
       "    <tr style=\"text-align: right;\">\n",
       "      <th></th>\n",
       "      <th>COMPAGNIE</th>\n",
       "      <th>CODE</th>\n",
       "      <th>NOMBRE D EMPLOYES</th>\n",
       "      <th>CHIFFRE D AFFAIRE</th>\n",
       "    </tr>\n",
       "  </thead>\n",
       "  <tbody>\n",
       "    <tr>\n",
       "      <th>0</th>\n",
       "      <td>Try Hard Airlines</td>\n",
       "      <td>THA</td>\n",
       "      <td>12909</td>\n",
       "      <td>2310000000</td>\n",
       "    </tr>\n",
       "    <tr>\n",
       "      <th>1</th>\n",
       "      <td>Corporate Overlord Airways</td>\n",
       "      <td>COA</td>\n",
       "      <td>130595</td>\n",
       "      <td>40579000000</td>\n",
       "    </tr>\n",
       "    <tr>\n",
       "      <th>2</th>\n",
       "      <td>Neverland Airlines</td>\n",
       "      <td>NA</td>\n",
       "      <td>18567</td>\n",
       "      <td>7651000000</td>\n",
       "    </tr>\n",
       "    <tr>\n",
       "      <th>3</th>\n",
       "      <td>Always A Problem Flights</td>\n",
       "      <td>AAPF</td>\n",
       "      <td>92000</td>\n",
       "      <td>51000000000</td>\n",
       "    </tr>\n",
       "    <tr>\n",
       "      <th>4</th>\n",
       "      <td>Overpriced Air</td>\n",
       "      <td>OA</td>\n",
       "      <td>12200</td>\n",
       "      <td>6649000000</td>\n",
       "    </tr>\n",
       "    <tr>\n",
       "      <th>5</th>\n",
       "      <td>Morally Ambiguious Fligthts</td>\n",
       "      <td>MAF</td>\n",
       "      <td>15150</td>\n",
       "      <td>6391000000</td>\n",
       "    </tr>\n",
       "    <tr>\n",
       "      <th>6</th>\n",
       "      <td>Fliying Is Possible Inc.</td>\n",
       "      <td>FIPI</td>\n",
       "      <td>13230</td>\n",
       "      <td>2979000000</td>\n",
       "    </tr>\n",
       "    <tr>\n",
       "      <th>7</th>\n",
       "      <td>Air Piloter Sans Les Mains</td>\n",
       "      <td>APSLM</td>\n",
       "      <td>13112</td>\n",
       "      <td>7651000000</td>\n",
       "    </tr>\n",
       "    <tr>\n",
       "      <th>8</th>\n",
       "      <td>Ne Va Pas Partout Airlines</td>\n",
       "      <td>NVPPA</td>\n",
       "      <td>12000</td>\n",
       "      <td>6235000000</td>\n",
       "    </tr>\n",
       "    <tr>\n",
       "      <th>9</th>\n",
       "      <td>IE 6.0 Flights</td>\n",
       "      <td>I6F</td>\n",
       "      <td>17569</td>\n",
       "      <td>2660000000</td>\n",
       "    </tr>\n",
       "    <tr>\n",
       "      <th>10</th>\n",
       "      <td>Air Penguin</td>\n",
       "      <td>AP</td>\n",
       "      <td>83503</td>\n",
       "      <td>31064000000</td>\n",
       "    </tr>\n",
       "    <tr>\n",
       "      <th>11</th>\n",
       "      <td>Bel Air</td>\n",
       "      <td>SMITH</td>\n",
       "      <td>18000</td>\n",
       "      <td>3671000000</td>\n",
       "    </tr>\n",
       "    <tr>\n",
       "      <th>12</th>\n",
       "      <td>Better Take A Train Airlines</td>\n",
       "      <td>BTATA</td>\n",
       "      <td>15878</td>\n",
       "      <td>5056000000</td>\n",
       "    </tr>\n",
       "    <tr>\n",
       "      <th>13</th>\n",
       "      <td>We Komen er Uiteindelijk Wel</td>\n",
       "      <td>WKEUW</td>\n",
       "      <td>30672</td>\n",
       "      <td>51000000000</td>\n",
       "    </tr>\n",
       "  </tbody>\n",
       "</table>\n",
       "</div>"
      ],
      "text/plain": [
       "                       COMPAGNIE   CODE  NOMBRE D EMPLOYES  CHIFFRE D AFFAIRE\n",
       "0              Try Hard Airlines    THA              12909         2310000000\n",
       "1     Corporate Overlord Airways    COA             130595        40579000000\n",
       "2             Neverland Airlines     NA              18567         7651000000\n",
       "3       Always A Problem Flights   AAPF              92000        51000000000\n",
       "4                 Overpriced Air     OA              12200         6649000000\n",
       "5    Morally Ambiguious Fligthts    MAF              15150         6391000000\n",
       "6       Fliying Is Possible Inc.   FIPI              13230         2979000000\n",
       "7     Air Piloter Sans Les Mains  APSLM              13112         7651000000\n",
       "8     Ne Va Pas Partout Airlines  NVPPA              12000         6235000000\n",
       "9                 IE 6.0 Flights    I6F              17569         2660000000\n",
       "10                   Air Penguin     AP              83503        31064000000\n",
       "11                       Bel Air  SMITH              18000         3671000000\n",
       "12  Better Take A Train Airlines  BTATA              15878         5056000000\n",
       "13  We Komen er Uiteindelijk Wel  WKEUW              30672        51000000000"
      ]
     },
     "execution_count": 18,
     "metadata": {},
     "output_type": "execute_result"
    }
   ],
   "source": [
    "df_compagnies"
   ]
  },
  {
   "cell_type": "code",
   "execution_count": 4,
   "metadata": {
    "scrolled": false
   },
   "outputs": [
    {
     "data": {
      "text/plain": [
       "0            MAF\n",
       "1            I6F\n",
       "2          NVPPA\n",
       "3          NVPPA\n",
       "4            THA\n",
       "           ...  \n",
       "4332909    SMITH\n",
       "4332910    SMITH\n",
       "4332911    SMITH\n",
       "4332912    SMITH\n",
       "4332913    SMITH\n",
       "Name: COMPAGNIE AERIENNE, Length: 4332914, dtype: object"
      ]
     },
     "execution_count": 4,
     "metadata": {},
     "output_type": "execute_result"
    }
   ],
   "source": [
    "df_vols['COMPAGNIE AERIENNE']"
   ]
  },
  {
   "cell_type": "code",
   "execution_count": 5,
   "metadata": {},
   "outputs": [],
   "source": [
    "list_compagnies = df_compagnies['COMPAGNIE'].unique().tolist()\n",
    "list_airports = df_aeroports['CODE IATA'].unique().tolist()"
   ]
  },
  {
   "cell_type": "code",
   "execution_count": 6,
   "metadata": {},
   "outputs": [],
   "source": [
    "airlines = [random.choice(list_compagnies) for i in range(100)]\n",
    "airports = [random.choice(list_airports) for i in range(100)]\n",
    "nb_passagers = list(random.sample(range(0, 2505), 100))"
   ]
  },
  {
   "cell_type": "code",
   "execution_count": 7,
   "metadata": {
    "scrolled": true
   },
   "outputs": [],
   "source": [
    "y_true = np.array(random.sample(range(-100, 1898), 100))\n",
    "y_preds = np.array(random.sample(range(-100, 1898), 100))\n",
    "prediction = pd.DataFrame({'RETARD': y_preds, 'COMPAGNIES': airlines, 'AEROPORTS': airports,\n",
    "                          'NOMBRE DE PASSAGERS': nb_passagers, 'RETARD REEL' : y_true})"
   ]
  },
  {
   "cell_type": "markdown",
   "metadata": {},
   "source": [
    "# METRICS "
   ]
  },
  {
   "cell_type": "markdown",
   "metadata": {},
   "source": [
    "On a choisit la **RMSE** : La racine de l'erreur quadratique moyenne ou racine de l'écart quadratique moyen est une mesure fréquemment utilisée des différences entre les valeurs prédites par un modèle ou estimateur et les valeurs observées\n",
    "\n",
    "- **Formule** : $RMSE = \\sqrt{MSE(\\theta)} = \\sqrt{\\dfrac{1}{n}\\sum^{n}_{i=1}\\left(y-y_{pred}\\right)^{2}}$\n",
    "\n",
    "- **Interpretation** : plus la valeur de notre RMSE est grande plus notre prédiction (le retard prédit à l'arrivée) est loin de la réalité terrain, du retard à l'arrivée effectif. Une RMSE proche de 0 signifie que notre modèle est proche de la réalité dans ces prédictions. "
   ]
  },
  {
   "cell_type": "markdown",
   "metadata": {},
   "source": [
    "On a également choisi une deuxième métrique : \n",
    "**Moyenne** : $\\dfrac{1}{n}\\sum^{n}_{i=1}\\left(y-y_{pred}\\right)$\n",
    "\n",
    "**Objectif** : pénaliser l'écart entre la prédiction et la réalité terrain mais aussi pénaliser la direction de l'erreur, c'est à dire si notre modèle prédit plus de retard que prévu ou à l'inverse moins de retard que prévu. "
   ]
  },
  {
   "cell_type": "code",
   "execution_count": 8,
   "metadata": {},
   "outputs": [],
   "source": [
    "airline_list = list(dict.fromkeys(airlines))\n",
    "rmse = []\n",
    "mean_error=[]\n",
    "for idx, airline in enumerate(airline_list): \n",
    "    y_true = prediction[prediction['COMPAGNIES'] == airline]['RETARD REEL']\n",
    "    y_preds =  prediction[prediction['COMPAGNIES'] == airline]['RETARD']\n",
    "    rmse.append(mean_squared_error(y_true, y_preds, squared=False)) #if squared=True return MSE value\n",
    "    mean_error.append((y_true - y_preds).mean())\n",
    "\n",
    "df_metrics = pd.DataFrame({'COMPAGNIE':airline_list, 'RMSE': rmse, 'MEAN ERROR': mean_error})"
   ]
  },
  {
   "cell_type": "code",
   "execution_count": 9,
   "metadata": {},
   "outputs": [
    {
     "data": {
      "text/html": [
       "<div>\n",
       "<style scoped>\n",
       "    .dataframe tbody tr th:only-of-type {\n",
       "        vertical-align: middle;\n",
       "    }\n",
       "\n",
       "    .dataframe tbody tr th {\n",
       "        vertical-align: top;\n",
       "    }\n",
       "\n",
       "    .dataframe thead th {\n",
       "        text-align: right;\n",
       "    }\n",
       "</style>\n",
       "<table border=\"1\" class=\"dataframe\">\n",
       "  <thead>\n",
       "    <tr style=\"text-align: right;\">\n",
       "      <th></th>\n",
       "      <th>COMPAGNIE</th>\n",
       "      <th>RMSE</th>\n",
       "      <th>MEAN ERROR</th>\n",
       "    </tr>\n",
       "  </thead>\n",
       "  <tbody>\n",
       "    <tr>\n",
       "      <th>0</th>\n",
       "      <td>Corporate Overlord Airways</td>\n",
       "      <td>990.362896</td>\n",
       "      <td>-229.333333</td>\n",
       "    </tr>\n",
       "    <tr>\n",
       "      <th>1</th>\n",
       "      <td>Air Penguin</td>\n",
       "      <td>977.158015</td>\n",
       "      <td>75.642857</td>\n",
       "    </tr>\n",
       "    <tr>\n",
       "      <th>2</th>\n",
       "      <td>Always A Problem Flights</td>\n",
       "      <td>1110.744720</td>\n",
       "      <td>-296.500000</td>\n",
       "    </tr>\n",
       "    <tr>\n",
       "      <th>3</th>\n",
       "      <td>Air Piloter Sans Les Mains</td>\n",
       "      <td>913.839762</td>\n",
       "      <td>-455.555556</td>\n",
       "    </tr>\n",
       "    <tr>\n",
       "      <th>4</th>\n",
       "      <td>Morally Ambiguious Fligthts</td>\n",
       "      <td>570.653719</td>\n",
       "      <td>214.666667</td>\n",
       "    </tr>\n",
       "    <tr>\n",
       "      <th>5</th>\n",
       "      <td>Overpriced Air</td>\n",
       "      <td>397.679519</td>\n",
       "      <td>178.384615</td>\n",
       "    </tr>\n",
       "    <tr>\n",
       "      <th>6</th>\n",
       "      <td>Ne Va Pas Partout Airlines</td>\n",
       "      <td>849.791739</td>\n",
       "      <td>235.000000</td>\n",
       "    </tr>\n",
       "    <tr>\n",
       "      <th>7</th>\n",
       "      <td>IE 6.0 Flights</td>\n",
       "      <td>1245.031124</td>\n",
       "      <td>-1076.500000</td>\n",
       "    </tr>\n",
       "    <tr>\n",
       "      <th>8</th>\n",
       "      <td>Bel Air</td>\n",
       "      <td>1033.200852</td>\n",
       "      <td>248.666667</td>\n",
       "    </tr>\n",
       "    <tr>\n",
       "      <th>9</th>\n",
       "      <td>Fliying Is Possible Inc.</td>\n",
       "      <td>240.625851</td>\n",
       "      <td>111.200000</td>\n",
       "    </tr>\n",
       "    <tr>\n",
       "      <th>10</th>\n",
       "      <td>We Komen er Uiteindelijk Wel</td>\n",
       "      <td>486.624907</td>\n",
       "      <td>-247.800000</td>\n",
       "    </tr>\n",
       "    <tr>\n",
       "      <th>11</th>\n",
       "      <td>Neverland Airlines</td>\n",
       "      <td>918.766875</td>\n",
       "      <td>-438.000000</td>\n",
       "    </tr>\n",
       "    <tr>\n",
       "      <th>12</th>\n",
       "      <td>Better Take A Train Airlines</td>\n",
       "      <td>893.572605</td>\n",
       "      <td>-186.000000</td>\n",
       "    </tr>\n",
       "    <tr>\n",
       "      <th>13</th>\n",
       "      <td>Try Hard Airlines</td>\n",
       "      <td>516.963490</td>\n",
       "      <td>-53.250000</td>\n",
       "    </tr>\n",
       "  </tbody>\n",
       "</table>\n",
       "</div>"
      ],
      "text/plain": [
       "                       COMPAGNIE         RMSE   MEAN ERROR\n",
       "0     Corporate Overlord Airways   990.362896  -229.333333\n",
       "1                    Air Penguin   977.158015    75.642857\n",
       "2       Always A Problem Flights  1110.744720  -296.500000\n",
       "3     Air Piloter Sans Les Mains   913.839762  -455.555556\n",
       "4    Morally Ambiguious Fligthts   570.653719   214.666667\n",
       "5                 Overpriced Air   397.679519   178.384615\n",
       "6     Ne Va Pas Partout Airlines   849.791739   235.000000\n",
       "7                 IE 6.0 Flights  1245.031124 -1076.500000\n",
       "8                        Bel Air  1033.200852   248.666667\n",
       "9       Fliying Is Possible Inc.   240.625851   111.200000\n",
       "10  We Komen er Uiteindelijk Wel   486.624907  -247.800000\n",
       "11            Neverland Airlines   918.766875  -438.000000\n",
       "12  Better Take A Train Airlines   893.572605  -186.000000\n",
       "13             Try Hard Airlines   516.963490   -53.250000"
      ]
     },
     "execution_count": 9,
     "metadata": {},
     "output_type": "execute_result"
    }
   ],
   "source": [
    "df_metrics"
   ]
  },
  {
   "cell_type": "markdown",
   "metadata": {},
   "source": [
    "# KPIs"
   ]
  },
  {
   "cell_type": "code",
   "execution_count": 10,
   "metadata": {
    "scrolled": true
   },
   "outputs": [],
   "source": [
    "prediction[\"CHIFFRE D'AFFAIRE COMPAGNIE\"] = prediction['COMPAGNIES'].map(lambda x:\\\n",
    "                                       df_compagnies[df_compagnies['COMPAGNIE'] ==x]['CHIFFRE D AFFAIRE'].values[0])"
   ]
  },
  {
   "cell_type": "code",
   "execution_count": 11,
   "metadata": {},
   "outputs": [],
   "source": [
    "prediction_avec_retard = prediction[prediction['RETARD']>0].copy()"
   ]
  },
  {
   "cell_type": "markdown",
   "metadata": {},
   "source": [
    "### Prix du retard"
   ]
  },
  {
   "cell_type": "markdown",
   "metadata": {},
   "source": [
    "Hypothese prix retard aéroport (centaine d'euros) : \n",
    "- après 10min :  la compagnie paye toutes les minutes le prix indiqué dans la colonne \"PRIS RETARD POUR CHAQUE MINUTE APRES 10 MINUTES\"\n",
    "- après 20min : la compagnie paye un **supplément** qui est le prix indiqué dans la colonne \"PRIX RETARD PREMIERE 20 MINUTES\""
   ]
  },
  {
   "cell_type": "code",
   "execution_count": 13,
   "metadata": {},
   "outputs": [
    {
     "name": "stdout",
     "output_type": "stream",
     "text": [
      "96\n"
     ]
    }
   ],
   "source": [
    "print(len(prediction_avec_retard))"
   ]
  },
  {
   "cell_type": "code",
   "execution_count": 14,
   "metadata": {},
   "outputs": [
    {
     "data": {
      "text/html": [
       "<div>\n",
       "<style scoped>\n",
       "    .dataframe tbody tr th:only-of-type {\n",
       "        vertical-align: middle;\n",
       "    }\n",
       "\n",
       "    .dataframe tbody tr th {\n",
       "        vertical-align: top;\n",
       "    }\n",
       "\n",
       "    .dataframe thead th {\n",
       "        text-align: right;\n",
       "    }\n",
       "</style>\n",
       "<table border=\"1\" class=\"dataframe\">\n",
       "  <thead>\n",
       "    <tr style=\"text-align: right;\">\n",
       "      <th></th>\n",
       "      <th>RETARD</th>\n",
       "      <th>COMPAGNIES</th>\n",
       "      <th>AEROPORTS</th>\n",
       "      <th>NOMBRE DE PASSAGERS</th>\n",
       "      <th>RETARD REEL</th>\n",
       "      <th>CHIFFRE D'AFFAIRE COMPAGNIE</th>\n",
       "    </tr>\n",
       "  </thead>\n",
       "  <tbody>\n",
       "    <tr>\n",
       "      <th>0</th>\n",
       "      <td>146</td>\n",
       "      <td>Corporate Overlord Airways</td>\n",
       "      <td>CKG</td>\n",
       "      <td>939</td>\n",
       "      <td>391</td>\n",
       "      <td>40579000000</td>\n",
       "    </tr>\n",
       "    <tr>\n",
       "      <th>1</th>\n",
       "      <td>799</td>\n",
       "      <td>Air Penguin</td>\n",
       "      <td>CPH</td>\n",
       "      <td>2326</td>\n",
       "      <td>220</td>\n",
       "      <td>31064000000</td>\n",
       "    </tr>\n",
       "    <tr>\n",
       "      <th>2</th>\n",
       "      <td>731</td>\n",
       "      <td>Air Penguin</td>\n",
       "      <td>ICN</td>\n",
       "      <td>1029</td>\n",
       "      <td>-37</td>\n",
       "      <td>31064000000</td>\n",
       "    </tr>\n",
       "    <tr>\n",
       "      <th>3</th>\n",
       "      <td>264</td>\n",
       "      <td>Always A Problem Flights</td>\n",
       "      <td>DAM</td>\n",
       "      <td>2484</td>\n",
       "      <td>54</td>\n",
       "      <td>51000000000</td>\n",
       "    </tr>\n",
       "    <tr>\n",
       "      <th>4</th>\n",
       "      <td>68</td>\n",
       "      <td>Air Piloter Sans Les Mains</td>\n",
       "      <td>OVB</td>\n",
       "      <td>171</td>\n",
       "      <td>308</td>\n",
       "      <td>7651000000</td>\n",
       "    </tr>\n",
       "    <tr>\n",
       "      <th>...</th>\n",
       "      <td>...</td>\n",
       "      <td>...</td>\n",
       "      <td>...</td>\n",
       "      <td>...</td>\n",
       "      <td>...</td>\n",
       "      <td>...</td>\n",
       "    </tr>\n",
       "    <tr>\n",
       "      <th>95</th>\n",
       "      <td>895</td>\n",
       "      <td>Overpriced Air</td>\n",
       "      <td>PEK</td>\n",
       "      <td>885</td>\n",
       "      <td>1007</td>\n",
       "      <td>6649000000</td>\n",
       "    </tr>\n",
       "    <tr>\n",
       "      <th>96</th>\n",
       "      <td>511</td>\n",
       "      <td>Air Penguin</td>\n",
       "      <td>TPE</td>\n",
       "      <td>134</td>\n",
       "      <td>1854</td>\n",
       "      <td>31064000000</td>\n",
       "    </tr>\n",
       "    <tr>\n",
       "      <th>97</th>\n",
       "      <td>430</td>\n",
       "      <td>Morally Ambiguious Fligthts</td>\n",
       "      <td>HAN</td>\n",
       "      <td>472</td>\n",
       "      <td>1409</td>\n",
       "      <td>6391000000</td>\n",
       "    </tr>\n",
       "    <tr>\n",
       "      <th>98</th>\n",
       "      <td>426</td>\n",
       "      <td>Ne Va Pas Partout Airlines</td>\n",
       "      <td>NAP</td>\n",
       "      <td>1375</td>\n",
       "      <td>934</td>\n",
       "      <td>6235000000</td>\n",
       "    </tr>\n",
       "    <tr>\n",
       "      <th>99</th>\n",
       "      <td>1663</td>\n",
       "      <td>Air Piloter Sans Les Mains</td>\n",
       "      <td>NWI</td>\n",
       "      <td>1912</td>\n",
       "      <td>248</td>\n",
       "      <td>7651000000</td>\n",
       "    </tr>\n",
       "  </tbody>\n",
       "</table>\n",
       "<p>96 rows × 6 columns</p>\n",
       "</div>"
      ],
      "text/plain": [
       "    RETARD                   COMPAGNIES AEROPORTS  NOMBRE DE PASSAGERS  \\\n",
       "0      146   Corporate Overlord Airways       CKG                  939   \n",
       "1      799                  Air Penguin       CPH                 2326   \n",
       "2      731                  Air Penguin       ICN                 1029   \n",
       "3      264     Always A Problem Flights       DAM                 2484   \n",
       "4       68   Air Piloter Sans Les Mains       OVB                  171   \n",
       "..     ...                          ...       ...                  ...   \n",
       "95     895               Overpriced Air       PEK                  885   \n",
       "96     511                  Air Penguin       TPE                  134   \n",
       "97     430  Morally Ambiguious Fligthts       HAN                  472   \n",
       "98     426   Ne Va Pas Partout Airlines       NAP                 1375   \n",
       "99    1663   Air Piloter Sans Les Mains       NWI                 1912   \n",
       "\n",
       "    RETARD REEL  CHIFFRE D'AFFAIRE COMPAGNIE  \n",
       "0           391                  40579000000  \n",
       "1           220                  31064000000  \n",
       "2           -37                  31064000000  \n",
       "3            54                  51000000000  \n",
       "4           308                   7651000000  \n",
       "..          ...                          ...  \n",
       "95         1007                   6649000000  \n",
       "96         1854                  31064000000  \n",
       "97         1409                   6391000000  \n",
       "98          934                   6235000000  \n",
       "99          248                   7651000000  \n",
       "\n",
       "[96 rows x 6 columns]"
      ]
     },
     "execution_count": 14,
     "metadata": {},
     "output_type": "execute_result"
    }
   ],
   "source": [
    "prediction_avec_retard"
   ]
  },
  {
   "cell_type": "code",
   "execution_count": 16,
   "metadata": {},
   "outputs": [
    {
     "data": {
      "text/html": [
       "<div>\n",
       "<style scoped>\n",
       "    .dataframe tbody tr th:only-of-type {\n",
       "        vertical-align: middle;\n",
       "    }\n",
       "\n",
       "    .dataframe tbody tr th {\n",
       "        vertical-align: top;\n",
       "    }\n",
       "\n",
       "    .dataframe thead th {\n",
       "        text-align: right;\n",
       "    }\n",
       "</style>\n",
       "<table border=\"1\" class=\"dataframe\">\n",
       "  <thead>\n",
       "    <tr style=\"text-align: right;\">\n",
       "      <th></th>\n",
       "      <th>RETARD</th>\n",
       "      <th>COMPAGNIES</th>\n",
       "      <th>AEROPORTS</th>\n",
       "      <th>NOMBRE DE PASSAGERS</th>\n",
       "      <th>RETARD REEL</th>\n",
       "      <th>CHIFFRE D'AFFAIRE COMPAGNIE</th>\n",
       "      <th>PRIX RETARD PREMIERE 20 MINUTES</th>\n",
       "    </tr>\n",
       "  </thead>\n",
       "  <tbody>\n",
       "    <tr>\n",
       "      <th>0</th>\n",
       "      <td>146</td>\n",
       "      <td>Corporate Overlord Airways</td>\n",
       "      <td>CKG</td>\n",
       "      <td>939</td>\n",
       "      <td>391</td>\n",
       "      <td>40579000000</td>\n",
       "      <td>67</td>\n",
       "    </tr>\n",
       "    <tr>\n",
       "      <th>1</th>\n",
       "      <td>799</td>\n",
       "      <td>Air Penguin</td>\n",
       "      <td>CPH</td>\n",
       "      <td>2326</td>\n",
       "      <td>220</td>\n",
       "      <td>31064000000</td>\n",
       "      <td>58</td>\n",
       "    </tr>\n",
       "    <tr>\n",
       "      <th>2</th>\n",
       "      <td>731</td>\n",
       "      <td>Air Penguin</td>\n",
       "      <td>ICN</td>\n",
       "      <td>1029</td>\n",
       "      <td>-37</td>\n",
       "      <td>31064000000</td>\n",
       "      <td>27</td>\n",
       "    </tr>\n",
       "    <tr>\n",
       "      <th>3</th>\n",
       "      <td>264</td>\n",
       "      <td>Always A Problem Flights</td>\n",
       "      <td>DAM</td>\n",
       "      <td>2484</td>\n",
       "      <td>54</td>\n",
       "      <td>51000000000</td>\n",
       "      <td>41</td>\n",
       "    </tr>\n",
       "    <tr>\n",
       "      <th>4</th>\n",
       "      <td>68</td>\n",
       "      <td>Air Piloter Sans Les Mains</td>\n",
       "      <td>OVB</td>\n",
       "      <td>171</td>\n",
       "      <td>308</td>\n",
       "      <td>7651000000</td>\n",
       "      <td>42</td>\n",
       "    </tr>\n",
       "    <tr>\n",
       "      <th>...</th>\n",
       "      <td>...</td>\n",
       "      <td>...</td>\n",
       "      <td>...</td>\n",
       "      <td>...</td>\n",
       "      <td>...</td>\n",
       "      <td>...</td>\n",
       "      <td>...</td>\n",
       "    </tr>\n",
       "    <tr>\n",
       "      <th>91</th>\n",
       "      <td>895</td>\n",
       "      <td>Overpriced Air</td>\n",
       "      <td>PEK</td>\n",
       "      <td>885</td>\n",
       "      <td>1007</td>\n",
       "      <td>6649000000</td>\n",
       "      <td>45</td>\n",
       "    </tr>\n",
       "    <tr>\n",
       "      <th>92</th>\n",
       "      <td>511</td>\n",
       "      <td>Air Penguin</td>\n",
       "      <td>TPE</td>\n",
       "      <td>134</td>\n",
       "      <td>1854</td>\n",
       "      <td>31064000000</td>\n",
       "      <td>21</td>\n",
       "    </tr>\n",
       "    <tr>\n",
       "      <th>93</th>\n",
       "      <td>430</td>\n",
       "      <td>Morally Ambiguious Fligthts</td>\n",
       "      <td>HAN</td>\n",
       "      <td>472</td>\n",
       "      <td>1409</td>\n",
       "      <td>6391000000</td>\n",
       "      <td>83</td>\n",
       "    </tr>\n",
       "    <tr>\n",
       "      <th>94</th>\n",
       "      <td>426</td>\n",
       "      <td>Ne Va Pas Partout Airlines</td>\n",
       "      <td>NAP</td>\n",
       "      <td>1375</td>\n",
       "      <td>934</td>\n",
       "      <td>6235000000</td>\n",
       "      <td>90</td>\n",
       "    </tr>\n",
       "    <tr>\n",
       "      <th>95</th>\n",
       "      <td>1663</td>\n",
       "      <td>Air Piloter Sans Les Mains</td>\n",
       "      <td>NWI</td>\n",
       "      <td>1912</td>\n",
       "      <td>248</td>\n",
       "      <td>7651000000</td>\n",
       "      <td>82</td>\n",
       "    </tr>\n",
       "  </tbody>\n",
       "</table>\n",
       "<p>96 rows × 7 columns</p>\n",
       "</div>"
      ],
      "text/plain": [
       "    RETARD                   COMPAGNIES AEROPORTS  NOMBRE DE PASSAGERS  \\\n",
       "0      146   Corporate Overlord Airways       CKG                  939   \n",
       "1      799                  Air Penguin       CPH                 2326   \n",
       "2      731                  Air Penguin       ICN                 1029   \n",
       "3      264     Always A Problem Flights       DAM                 2484   \n",
       "4       68   Air Piloter Sans Les Mains       OVB                  171   \n",
       "..     ...                          ...       ...                  ...   \n",
       "91     895               Overpriced Air       PEK                  885   \n",
       "92     511                  Air Penguin       TPE                  134   \n",
       "93     430  Morally Ambiguious Fligthts       HAN                  472   \n",
       "94     426   Ne Va Pas Partout Airlines       NAP                 1375   \n",
       "95    1663   Air Piloter Sans Les Mains       NWI                 1912   \n",
       "\n",
       "    RETARD REEL  CHIFFRE D'AFFAIRE COMPAGNIE  PRIX RETARD PREMIERE 20 MINUTES  \n",
       "0           391                  40579000000                               67  \n",
       "1           220                  31064000000                               58  \n",
       "2           -37                  31064000000                               27  \n",
       "3            54                  51000000000                               41  \n",
       "4           308                   7651000000                               42  \n",
       "..          ...                          ...                              ...  \n",
       "91         1007                   6649000000                               45  \n",
       "92         1854                  31064000000                               21  \n",
       "93         1409                   6391000000                               83  \n",
       "94          934                   6235000000                               90  \n",
       "95          248                   7651000000                               82  \n",
       "\n",
       "[96 rows x 7 columns]"
      ]
     },
     "execution_count": 16,
     "metadata": {},
     "output_type": "execute_result"
    }
   ],
   "source": [
    "test = pd.merge(prediction_avec_retard, \n",
    "                df_aeroports[['CODE IATA', 'PRIX RETARD PREMIERE 20 MINUTES']].rename(columns={'CODE IATA': 'AEROPORTS'}),\n",
    "                on='AEROPORTS', how='left')\n",
    "test "
   ]
  },
  {
   "cell_type": "code",
   "execution_count": 17,
   "metadata": {},
   "outputs": [
    {
     "name": "stdout",
     "output_type": "stream",
     "text": [
      "96\n"
     ]
    }
   ],
   "source": [
    "print(len(test))"
   ]
  },
  {
   "cell_type": "code",
   "execution_count": null,
   "metadata": {},
   "outputs": [],
   "source": [
    "def add_cost_20min_delay(df_aeroports, airport):\n",
    "    twenty_first_min_cost = df_aeroports[\n",
    "        df_aeroports['CODE IATA'] == airport]['PRIX RETARD PREMIERE 20 MINUTES'].values[0]\n",
    "    return twenty_first_min_cost\n",
    "\n",
    "def add_cost_10min_delay(df_aeroports, airport):\n",
    "    ten_min_delay_cost = df_aeroports[\n",
    "            df_aeroports['CODE IATA'] == airport]['PRIS RETARD POUR CHAQUE MINUTE APRES 10 MINUTES'].values[0]\n",
    "    return ten_min_delay_cost"
   ]
  },
  {
   "cell_type": "code",
   "execution_count": null,
   "metadata": {},
   "outputs": [],
   "source": [
    "def cost_of_delay(pred_vol):\n",
    "    delay = pred_vol['RETARD']\n",
    "    twenty_first_min_cost = pred_vol['PRIX RETARD PREMIERE 20 MINUTES']\n",
    "    ten_min_delay_cost = pred_vol['PRIS RETARD CHAQUE MINUTE APRES 10 MINUTES']\n",
    "    \n",
    "    cost = 0\n",
    "    if delay > 10 : \n",
    "        cost += ten_min_delay_cost * (delay - 10) \n",
    "    if delay >= 20 : \n",
    "        cost += twenty_first_min_cost\n",
    "    return cost"
   ]
  },
  {
   "cell_type": "code",
   "execution_count": null,
   "metadata": {},
   "outputs": [],
   "source": [
    "prediction_avec_retard['PRIX RETARD PREMIERE 20 MINUTES'] = prediction_avec_retard['AEROPORTS']\\\n",
    "                                                            .map(lambda x: add_cost_20min_delay(df_aeroports, x))\n",
    "    \n",
    "prediction_avec_retard['PRIS RETARD CHAQUE MINUTE APRES 10 MINUTES'] = prediction_avec_retard['AEROPORTS']\\\n",
    "                                                                .map(lambda x: add_cost_10min_delay(df_aeroports, x))\n",
    "prediction_avec_retard['COUT DU RETARD'] = prediction_avec_retard.apply(cost_of_delay, axis=1)"
   ]
  },
  {
   "cell_type": "code",
   "execution_count": null,
   "metadata": {},
   "outputs": [],
   "source": [
    "prediction_avec_retard = prediction_avec_retard.drop(\n",
    "    columns=['PRIX RETARD PREMIERE 20 MINUTES', 'PRIS RETARD CHAQUE MINUTE APRES 10 MINUTES'])"
   ]
  },
  {
   "cell_type": "markdown",
   "metadata": {},
   "source": [
    "### Indemnisation des clients "
   ]
  },
  {
   "cell_type": "markdown",
   "metadata": {},
   "source": [
    "Hypothèse : \n",
    "- 10% des clients vont demander à être indemnisé pour un retard compris entre 10min et 45min\n",
    "    - Indemnité à payer : 1/4 du prix du billet\n",
    "- 20% des clients vont demander à être indemnisé pour un retard supérieur à 1h \n",
    "    - Indemnité à payer : 1/2 du prix du billet\n",
    "- 50% des clients vont demander à être indemnisé pour un retard supérieur à 3h \n",
    "    - Indemnité à payer : totalité du prix du billet\n",
    "    \n",
    "On fait l'hypothèse d'un fixe maximal du prix du billet : **300€**"
   ]
  },
  {
   "cell_type": "code",
   "execution_count": null,
   "metadata": {},
   "outputs": [],
   "source": [
    "def get_number_of_indemnities_asked(pred_vol): \n",
    "    delay = pred_vol.loc['RETARD']\n",
    "    nb_of_passenger = pred_vol.loc['NOMBRE DE PASSAGERS']\n",
    "    nb_of_indemnities_asked = 0\n",
    "    if delay > 10 and delay <45: \n",
    "        nb_of_indemnities_asked = 20*nb_of_passenger//100\n",
    "    elif delay > 60 and delay <180:\n",
    "        nb_of_indemnities_asked = 50*nb_of_passenger//100\n",
    "    elif delay > 180:\n",
    "        nb_of_indemnities_asked = 75*nb_of_passenger//100\n",
    "    return nb_of_indemnities_asked\n",
    "\n",
    "def compensation_due(pred_vol, ticket_price=300): \n",
    "    delay = pred_vol.loc['RETARD']\n",
    "    nb_of_indemnities_asked = pred_vol.loc[\"NOMBRE D'INDEMNITES DEMANDEES\"]\n",
    "    compensation_due_to_clients = 0\n",
    "    if delay > 10 and delay <45: \n",
    "        compensation_due_to_clients = (ticket_price/3)*nb_of_indemnities_asked\n",
    "    elif delay > 60 and delay <180:\n",
    "        compensation_due_to_clients = (ticket_price/2)*nb_of_indemnities_asked\n",
    "    elif delay > 180:\n",
    "        compensation_due_to_clients = ticket_price*nb_of_indemnities_asked\n",
    "    return compensation_due_to_clients"
   ]
  },
  {
   "cell_type": "code",
   "execution_count": null,
   "metadata": {},
   "outputs": [],
   "source": [
    "prediction_avec_retard[\n",
    "    \"NOMBRE D'INDEMNITES DEMANDEES\"] = prediction_avec_retard.apply(get_number_of_indemnities_asked, axis=1)\n",
    "prediction_avec_retard[\n",
    "    \"INDEMNITES A PAYER\"] = prediction_avec_retard.apply(compensation_due, axis=1)"
   ]
  },
  {
   "cell_type": "markdown",
   "metadata": {
    "scrolled": false
   },
   "source": [
    "## Perte de client : \n",
    "\n",
    "**Hypothèse** : Taux d'attrition à 3% pour un retard de plus de 3h "
   ]
  },
  {
   "cell_type": "code",
   "execution_count": null,
   "metadata": {},
   "outputs": [],
   "source": [
    "def get_number_of_lost_customer(delay, passenger_nb):\n",
    "    if delay > 180 : \n",
    "        return passenger_nb*3//100\n",
    "    else : return 0\n",
    "\n",
    "prediction_avec_retard['NOMBRE DE CLIENTS PERDUS'] = prediction_avec_retard.apply(\n",
    "    lambda x: get_number_of_lost_customer(x[\"RETARD\"], x['NOMBRE DE PASSAGERS']), axis=1)"
   ]
  },
  {
   "cell_type": "code",
   "execution_count": null,
   "metadata": {
    "scrolled": true
   },
   "outputs": [],
   "source": [
    "prediction_avec_retard"
   ]
  },
  {
   "cell_type": "markdown",
   "metadata": {},
   "source": [
    "### Get the cost of all the lost client for the airlines\n",
    "\n",
    "**Hypothèse** : \n",
    "\n",
    "On suppose qu'un client prend en moyenne 3 fois l'avion par an avec la même compagnie (on suppose une fidéité total des clients auprès de leur compagnie).\n",
    "\n",
    "Donc si la compagnie perd un client, elle perd un cout de **3x\"prix du billet\"** par client\n",
    "\n",
    "On suppose le prix du billet = 300€"
   ]
  },
  {
   "cell_type": "code",
   "execution_count": null,
   "metadata": {},
   "outputs": [],
   "source": [
    "def get_cost_of_lost_customer(nb_of_lost_customers, ticket_price=300, flight_frequency=3):\n",
    "    return flight_frequency*ticket_price*nb_of_lost_customers"
   ]
  },
  {
   "cell_type": "code",
   "execution_count": null,
   "metadata": {},
   "outputs": [],
   "source": [
    "prediction_avec_retard['COUT DES CLIENTS PERDUS'] = prediction_avec_retard[\"NOMBRE DE CLIENTS PERDUS\"].map(\n",
    "                                                                        lambda x: get_cost_of_lost_customer(x))"
   ]
  },
  {
   "cell_type": "code",
   "execution_count": null,
   "metadata": {},
   "outputs": [],
   "source": [
    "prediction_avec_retard"
   ]
  },
  {
   "cell_type": "markdown",
   "metadata": {},
   "source": [
    "# TODO : \n",
    "\n",
    "- [x] Rajouter colonne avec pourcentage du chiffre d'affaire perdu \n",
    "- [x] Afficher nombre de vols en retard par compagnie \n",
    "- [x] combien de clients ils vont perdre : plus de 3h de retard --> taux d'attrition de 5% des clients\n",
    "- [x] fréquence moyenne de réservation de vol avec la compagnie (3fs/an) : 5%x3x(prix du billet)\n",
    "- [x] afficher le détail répartition des couts dans total à payer dans les graphes\n",
    "- [ ] NEXT STEPS "
   ]
  },
  {
   "cell_type": "markdown",
   "metadata": {},
   "source": [
    "# BILAN : TOTAL A PAYER"
   ]
  },
  {
   "cell_type": "code",
   "execution_count": null,
   "metadata": {},
   "outputs": [],
   "source": [
    "cost_of_delay_gb_airlines = prediction_avec_retard[[\"RETARD\", \"COMPAGNIES\",\"CHIFFRE D'AFFAIRE COMPAGNIE\",\n",
    "                                                    \"COUT DU RETARD\", \"INDEMNITES A PAYER\", \"NOMBRE DE CLIENTS PERDUS\", \n",
    "                                                    \"COUT DES CLIENTS PERDUS\"]]\\\n",
    "                            .groupby(['COMPAGNIES'], as_index=False)\\\n",
    "                            .agg({\n",
    "                                \"RETARD\" : \"count\",\n",
    "                                \"CHIFFRE D'AFFAIRE COMPAGNIE\":'first',\n",
    "                                \"COUT DU RETARD\":'sum',\n",
    "                                \"INDEMNITES A PAYER\":'sum',\n",
    "                                \"NOMBRE DE CLIENTS PERDUS\": \"sum\", \n",
    "                                \"COUT DES CLIENTS PERDUS\": \"sum\"\n",
    "                            }).rename(columns={\"RETARD\" : \"NOMBRE DE RETARD\"})"
   ]
  },
  {
   "cell_type": "code",
   "execution_count": null,
   "metadata": {},
   "outputs": [],
   "source": [
    "cost_of_delay_gb_airlines[\"TOTAL A PAYER\"] = cost_of_delay_gb_airlines[\"COUT DU RETARD\"]\\\n",
    "                                            + cost_of_delay_gb_airlines[\"INDEMNITES A PAYER\"]\\\n",
    "                                            + cost_of_delay_gb_airlines[\"COUT DES CLIENTS PERDUS\"]"
   ]
  },
  {
   "cell_type": "code",
   "execution_count": null,
   "metadata": {},
   "outputs": [],
   "source": [
    "cost_of_delay_gb_airlines[\"NV CHIFFRE D'AFFAIRE\"] = cost_of_delay_gb_airlines[\"CHIFFRE D'AFFAIRE COMPAGNIE\"]\\\n",
    "                                                    - cost_of_delay_gb_airlines[\"TOTAL A PAYER\"]"
   ]
  },
  {
   "cell_type": "code",
   "execution_count": null,
   "metadata": {},
   "outputs": [],
   "source": [
    "cost_of_delay_gb_airlines[\"%CHIFFRE D'AFFAIRE LOST\"] = \\\n",
    "(cost_of_delay_gb_airlines[\"TOTAL A PAYER\"]/cost_of_delay_gb_airlines[\"CHIFFRE D'AFFAIRE COMPAGNIE\"])*100"
   ]
  },
  {
   "cell_type": "code",
   "execution_count": null,
   "metadata": {},
   "outputs": [],
   "source": [
    "cost_of_delay_gb_airlines"
   ]
  },
  {
   "cell_type": "code",
   "execution_count": null,
   "metadata": {
    "scrolled": false
   },
   "outputs": [],
   "source": [
    "fig = px.bar(cost_of_delay_gb_airlines,\n",
    "             x=\"COMPAGNIES\",\n",
    "             y=[\"CHIFFRE D'AFFAIRE COMPAGNIE\", \"NV CHIFFRE D'AFFAIRE\"],\n",
    "             barmode='group',\n",
    "             title=\"Repartition du Chiffre d'affaire et cout total du retard par Compagnie\")\n",
    "fig.show()\n",
    "\n",
    "fig = px.bar(cost_of_delay_gb_airlines,\n",
    "             x=\"COMPAGNIES\",\n",
    "             y=[\"CHIFFRE D'AFFAIRE COMPAGNIE\", \"TOTAL A PAYER\"],\n",
    "             barmode='group',\n",
    "             title=\"Repartition du Chiffre d'affaire et cout total du retard par Compagnie\")\n",
    "fig.show()"
   ]
  },
  {
   "cell_type": "code",
   "execution_count": null,
   "metadata": {
    "scrolled": false
   },
   "outputs": [],
   "source": [
    "import plotly.graph_objects as go\n",
    "\n",
    "for idx, company in enumerate(cost_of_delay_gb_airlines[\"COMPAGNIES\"]):\n",
    "    labels = [\"NV CHIFFRE D'AFFAIRE\",\"TOTAL A PAYER\"]\n",
    "    values = [cost_of_delay_gb_airlines.iloc[idx][\"NV CHIFFRE D'AFFAIRE\"],\n",
    "              cost_of_delay_gb_airlines.iloc[idx][\"TOTAL A PAYER\"]]\n",
    "\n",
    "    fig = go.Figure(data=[go.Pie(labels=labels, values=values, pull=[0, 0, 0.2, 0])])\n",
    "    fig.update_traces(hole=.4, hoverinfo=\"label+percent+name\")\n",
    "    fig.update_layout(title_text=company)\n",
    "    fig.show()"
   ]
  },
  {
   "cell_type": "code",
   "execution_count": null,
   "metadata": {},
   "outputs": [],
   "source": []
  },
  {
   "cell_type": "code",
   "execution_count": null,
   "metadata": {},
   "outputs": [],
   "source": []
  }
 ],
 "metadata": {
  "kernelspec": {
   "display_name": "PyCharm (octofly)",
   "language": "python",
   "name": "pycharm-d93533a3"
  },
  "language_info": {
   "codemirror_mode": {
    "name": "ipython",
    "version": 3
   },
   "file_extension": ".py",
   "mimetype": "text/x-python",
   "name": "python",
   "nbconvert_exporter": "python",
   "pygments_lexer": "ipython3",
   "version": "3.8.8"
  }
 },
 "nbformat": 4,
 "nbformat_minor": 2
}
