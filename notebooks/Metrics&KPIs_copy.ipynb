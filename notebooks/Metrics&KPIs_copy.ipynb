{
 "cells": [
  {
   "cell_type": "code",
   "execution_count": null,
   "metadata": {},
   "outputs": [],
   "source": [
    "import numpy as np\n",
    "import pandas as pd \n",
    "import pandas_profiling as pp\n",
    "import plotly.express as px \n",
    "import sqlite3\n",
    "import random\n",
    "from sklearn.metrics import mean_squared_error\n",
    "\n",
    "pd.options.display.max_columns = None"
   ]
  },
  {
   "cell_type": "markdown",
   "metadata": {},
   "source": [
    "## Import des datasets "
   ]
  },
  {
   "cell_type": "code",
   "execution_count": null,
   "metadata": {},
   "outputs": [],
   "source": [
    "df_aeroports = pd.read_parquet(\"../data/aggregated_data/aeroports.gzip\")\n",
    "df_compagnies = pd.read_parquet(\"../data/aggregated_data/compagnies.gzip\")\n",
    "df_vols = pd.read_parquet(\"../data/aggregated_data/vols.gzip\")\n",
    "df_fuel = pd.read_parquet(\"../data/aggregated_data/prix_fuel.gzip\")\n",
    "df_test = pd.read_parquet(\"../data/extracted/test_data/vols.gzip\")"
   ]
  },
  {
   "cell_type": "code",
   "execution_count": null,
   "metadata": {},
   "outputs": [],
   "source": [
    "df_vols.info()"
   ]
  },
  {
   "cell_type": "code",
   "execution_count": null,
   "metadata": {},
   "outputs": [],
   "source": [
    "df_vols['COMPAGNIE AERIENNE']"
   ]
  },
  {
   "cell_type": "code",
   "execution_count": null,
   "metadata": {},
   "outputs": [],
   "source": [
    "df_compagnies"
   ]
  },
  {
   "cell_type": "code",
   "execution_count": null,
   "metadata": {
    "scrolled": false
   },
   "outputs": [],
   "source": [
    "df_vols['COMPAGNIE AERIENNE']"
   ]
  },
  {
   "cell_type": "code",
   "execution_count": null,
   "metadata": {},
   "outputs": [],
   "source": [
    "list_compagnies = df_compagnies['COMPAGNIE'].unique().tolist()\n",
    "list_airports = df_aeroports['CODE IATA'].unique().tolist()"
   ]
  },
  {
   "cell_type": "code",
   "execution_count": null,
   "metadata": {},
   "outputs": [],
   "source": [
    "airlines = [random.choice(list_compagnies) for i in range(100)]\n",
    "airports = [random.choice(list_airports) for i in range(100)]\n",
    "nb_passagers = list(random.sample(range(0, 2505), 100))"
   ]
  },
  {
   "cell_type": "code",
   "execution_count": null,
   "metadata": {
    "scrolled": true
   },
   "outputs": [],
   "source": [
    "y_true = np.array(random.sample(range(-100, 1898), 100))\n",
    "y_preds = np.array(random.sample(range(-100, 1898), 100))\n",
    "prediction = pd.DataFrame({'RETARD': y_preds, 'COMPAGNIES': airlines, 'AEROPORTS': airports,\n",
    "                          'NOMBRE DE PASSAGERS': nb_passagers, 'RETARD REEL' : y_true})"
   ]
  },
  {
   "cell_type": "markdown",
   "metadata": {},
   "source": [
    "# METRICS "
   ]
  },
  {
   "cell_type": "markdown",
   "metadata": {},
   "source": [
    "On a choisit la **RMSE** : La racine de l'erreur quadratique moyenne ou racine de l'écart quadratique moyen est une mesure fréquemment utilisée des différences entre les valeurs prédites par un modèle ou estimateur et les valeurs observées\n",
    "\n",
    "- **Formule** : $RMSE = \\sqrt{MSE(\\theta)} = \\sqrt{\\dfrac{1}{n}\\sum^{n}_{i=1}\\left(y-y_{pred}\\right)^{2}}$\n",
    "\n",
    "- **Interpretation** : plus la valeur de notre RMSE est grande plus notre prédiction (le retard prédit à l'arrivée) est loin de la réalité terrain, du retard à l'arrivée effectif. Une RMSE proche de 0 signifie que notre modèle est proche de la réalité dans ces prédictions. "
   ]
  },
  {
   "cell_type": "markdown",
   "metadata": {},
   "source": [
    "On a également choisi une deuxième métrique : \n",
    "**Moyenne** : $\\dfrac{1}{n}\\sum^{n}_{i=1}\\left(y-y_{pred}\\right)$\n",
    "\n",
    "**Objectif** : pénaliser l'écart entre la prédiction et la réalité terrain mais aussi pénaliser la direction de l'erreur, c'est à dire si notre modèle prédit plus de retard que prévu ou à l'inverse moins de retard que prévu. "
   ]
  },
  {
   "cell_type": "code",
   "execution_count": null,
   "metadata": {},
   "outputs": [],
   "source": [
    "airline_list = list(dict.fromkeys(airlines))\n",
    "rmse = []\n",
    "mean_error=[]\n",
    "for idx, airline in enumerate(airline_list): \n",
    "    y_true = prediction[prediction['COMPAGNIES'] == airline]['RETARD REEL']\n",
    "    y_preds =  prediction[prediction['COMPAGNIES'] == airline]['RETARD']\n",
    "    rmse.append(mean_squared_error(y_true, y_preds, squared=False)) #if squared=True return MSE value\n",
    "    mean_error.append((y_true - y_preds).mean())\n",
    "\n",
    "df_metrics = pd.DataFrame({'COMPAGNIE':airline_list, 'RMSE': rmse, 'MEAN ERROR': mean_error})"
   ]
  },
  {
   "cell_type": "code",
   "execution_count": null,
   "metadata": {},
   "outputs": [],
   "source": [
    "df_metrics"
   ]
  },
  {
   "cell_type": "markdown",
   "metadata": {},
   "source": [
    "# KPIs"
   ]
  },
  {
   "cell_type": "code",
   "execution_count": null,
   "metadata": {
    "scrolled": true
   },
   "outputs": [],
   "source": [
    "prediction[\"CHIFFRE D'AFFAIRE COMPAGNIE\"] = prediction['COMPAGNIES'].map(lambda x:\\\n",
    "                                       df_compagnies[df_compagnies['COMPAGNIE'] ==x]['CHIFFRE D AFFAIRE'].values[0])"
   ]
  },
  {
   "cell_type": "code",
   "execution_count": null,
   "metadata": {},
   "outputs": [],
   "source": [
    "prediction_avec_retard = prediction[prediction['RETARD']>0].copy()"
   ]
  },
  {
   "cell_type": "markdown",
   "metadata": {},
   "source": [
    "### Prix du retard"
   ]
  },
  {
   "cell_type": "markdown",
   "metadata": {},
   "source": [
    "Hypothese prix retard aéroport (centaine d'euros) : \n",
    "- après 10min :  la compagnie paye toutes les minutes le prix indiqué dans la colonne \"PRIS RETARD POUR CHAQUE MINUTE APRES 10 MINUTES\"\n",
    "- après 20min : la compagnie paye un **supplément** qui est le prix indiqué dans la colonne \"PRIX RETARD PREMIERE 20 MINUTES\""
   ]
  },
  {
   "cell_type": "code",
   "execution_count": null,
   "metadata": {},
   "outputs": [],
   "source": [
    "print(len(prediction_avec_retard))"
   ]
  },
  {
   "cell_type": "code",
   "execution_count": null,
   "metadata": {},
   "outputs": [],
   "source": [
    "prediction_avec_retard"
   ]
  },
  {
   "cell_type": "code",
   "execution_count": null,
   "metadata": {},
   "outputs": [],
   "source": [
    "test = pd.merge(prediction_avec_retard, \n",
    "                df_aeroports[['CODE IATA', 'PRIX RETARD PREMIERE 20 MINUTES']].rename(columns={'CODE IATA': 'AEROPORTS'}),\n",
    "                on='AEROPORTS', how='left')\n",
    "test "
   ]
  },
  {
   "cell_type": "code",
   "execution_count": null,
   "metadata": {},
   "outputs": [],
   "source": [
    "print(len(test))"
   ]
  },
  {
   "cell_type": "code",
   "execution_count": null,
   "metadata": {},
   "outputs": [],
   "source": [
    "def add_cost_20min_delay(df_aeroports, airport):\n",
    "    twenty_first_min_cost = df_aeroports[\n",
    "        df_aeroports['CODE IATA'] == airport]['PRIX RETARD PREMIERE 20 MINUTES'].values[0]\n",
    "    return twenty_first_min_cost\n",
    "\n",
    "def add_cost_10min_delay(df_aeroports, airport):\n",
    "    ten_min_delay_cost = df_aeroports[\n",
    "            df_aeroports['CODE IATA'] == airport]['PRIS RETARD POUR CHAQUE MINUTE APRES 10 MINUTES'].values[0]\n",
    "    return ten_min_delay_cost"
   ]
  },
  {
   "cell_type": "code",
   "execution_count": null,
   "metadata": {},
   "outputs": [],
   "source": [
    "def cost_of_delay(pred_vol):\n",
    "    delay = pred_vol['RETARD']\n",
    "    twenty_first_min_cost = pred_vol['PRIX RETARD PREMIERE 20 MINUTES']\n",
    "    ten_min_delay_cost = pred_vol['PRIS RETARD CHAQUE MINUTE APRES 10 MINUTES']\n",
    "    \n",
    "    cost = 0\n",
    "    if delay > 10 : \n",
    "        cost += ten_min_delay_cost * (delay - 10) \n",
    "    if delay >= 20 : \n",
    "        cost += twenty_first_min_cost\n",
    "    return cost"
   ]
  },
  {
   "cell_type": "code",
   "execution_count": null,
   "metadata": {},
   "outputs": [],
   "source": [
    "prediction_avec_retard['PRIX RETARD PREMIERE 20 MINUTES'] = prediction_avec_retard['AEROPORTS']\\\n",
    "                                                            .map(lambda x: add_cost_20min_delay(df_aeroports, x))\n",
    "    \n",
    "prediction_avec_retard['PRIS RETARD CHAQUE MINUTE APRES 10 MINUTES'] = prediction_avec_retard['AEROPORTS']\\\n",
    "                                                                .map(lambda x: add_cost_10min_delay(df_aeroports, x))\n",
    "prediction_avec_retard['COUT DU RETARD'] = prediction_avec_retard.apply(cost_of_delay, axis=1)"
   ]
  },
  {
   "cell_type": "code",
   "execution_count": null,
   "metadata": {},
   "outputs": [],
   "source": [
    "prediction_avec_retard = prediction_avec_retard.drop(\n",
    "    columns=['PRIX RETARD PREMIERE 20 MINUTES', 'PRIS RETARD CHAQUE MINUTE APRES 10 MINUTES'])"
   ]
  },
  {
   "cell_type": "markdown",
   "metadata": {},
   "source": [
    "### Indemnisation des clients "
   ]
  },
  {
   "cell_type": "markdown",
   "metadata": {},
   "source": [
    "Hypothèse : \n",
    "- 10% des clients vont demander à être indemnisé pour un retard compris entre 10min et 45min\n",
    "    - Indemnité à payer : 1/4 du prix du billet\n",
    "- 20% des clients vont demander à être indemnisé pour un retard supérieur à 1h \n",
    "    - Indemnité à payer : 1/2 du prix du billet\n",
    "- 50% des clients vont demander à être indemnisé pour un retard supérieur à 3h \n",
    "    - Indemnité à payer : totalité du prix du billet\n",
    "    \n",
    "On fait l'hypothèse d'un fixe maximal du prix du billet : **300€**"
   ]
  },
  {
   "cell_type": "code",
   "execution_count": null,
   "metadata": {},
   "outputs": [],
   "source": [
    "def get_number_of_indemnities_asked(pred_vol): \n",
    "    delay = pred_vol.loc['RETARD']\n",
    "    nb_of_passenger = pred_vol.loc['NOMBRE DE PASSAGERS']\n",
    "    nb_of_indemnities_asked = 0\n",
    "    if delay > 10 and delay <45: \n",
    "        nb_of_indemnities_asked = 20*nb_of_passenger//100\n",
    "    elif delay > 60 and delay <180:\n",
    "        nb_of_indemnities_asked = 50*nb_of_passenger//100\n",
    "    elif delay > 180:\n",
    "        nb_of_indemnities_asked = 75*nb_of_passenger//100\n",
    "    return nb_of_indemnities_asked\n",
    "\n",
    "def compensation_due(pred_vol, ticket_price=300): \n",
    "    delay = pred_vol.loc['RETARD']\n",
    "    nb_of_indemnities_asked = pred_vol.loc[\"NOMBRE D'INDEMNITES DEMANDEES\"]\n",
    "    compensation_due_to_clients = 0\n",
    "    if delay > 10 and delay <45: \n",
    "        compensation_due_to_clients = (ticket_price/3)*nb_of_indemnities_asked\n",
    "    elif delay > 60 and delay <180:\n",
    "        compensation_due_to_clients = (ticket_price/2)*nb_of_indemnities_asked\n",
    "    elif delay > 180:\n",
    "        compensation_due_to_clients = ticket_price*nb_of_indemnities_asked\n",
    "    return compensation_due_to_clients"
   ]
  },
  {
   "cell_type": "code",
   "execution_count": null,
   "metadata": {},
   "outputs": [],
   "source": [
    "prediction_avec_retard[\n",
    "    \"NOMBRE D'INDEMNITES DEMANDEES\"] = prediction_avec_retard.apply(get_number_of_indemnities_asked, axis=1)\n",
    "prediction_avec_retard[\n",
    "    \"INDEMNITES A PAYER\"] = prediction_avec_retard.apply(compensation_due, axis=1)"
   ]
  },
  {
   "cell_type": "markdown",
   "metadata": {
    "scrolled": false
   },
   "source": [
    "## Perte de client : \n",
    "\n",
    "**Hypothèse** : Taux d'attrition à 3% pour un retard de plus de 3h "
   ]
  },
  {
   "cell_type": "code",
   "execution_count": null,
   "metadata": {},
   "outputs": [],
   "source": [
    "def get_number_of_lost_customer(delay, passenger_nb):\n",
    "    if delay > 180 : \n",
    "        return passenger_nb*3//100\n",
    "    else : return 0\n",
    "\n",
    "prediction_avec_retard['NOMBRE DE CLIENTS PERDUS'] = prediction_avec_retard.apply(\n",
    "    lambda x: get_number_of_lost_customer(x[\"RETARD\"], x['NOMBRE DE PASSAGERS']), axis=1)"
   ]
  },
  {
   "cell_type": "code",
   "execution_count": null,
   "metadata": {
    "scrolled": true
   },
   "outputs": [],
   "source": [
    "prediction_avec_retard"
   ]
  },
  {
   "cell_type": "markdown",
   "metadata": {},
   "source": [
    "### Get the cost of all the lost client for the airlines\n",
    "\n",
    "**Hypothèse** : \n",
    "\n",
    "On suppose qu'un client prend en moyenne 3 fois l'avion par an avec la même compagnie (on suppose une fidéité total des clients auprès de leur compagnie).\n",
    "\n",
    "Donc si la compagnie perd un client, elle perd un cout de **3x\"prix du billet\"** par client\n",
    "\n",
    "On suppose le prix du billet = 300€"
   ]
  },
  {
   "cell_type": "code",
   "execution_count": null,
   "metadata": {},
   "outputs": [],
   "source": [
    "def get_cost_of_lost_customer(nb_of_lost_customers, ticket_price=300, flight_frequency=3):\n",
    "    return flight_frequency*ticket_price*nb_of_lost_customers"
   ]
  },
  {
   "cell_type": "code",
   "execution_count": null,
   "metadata": {},
   "outputs": [],
   "source": [
    "prediction_avec_retard['COUT DES CLIENTS PERDUS'] = prediction_avec_retard[\"NOMBRE DE CLIENTS PERDUS\"].map(\n",
    "                                                                        lambda x: get_cost_of_lost_customer(x))"
   ]
  },
  {
   "cell_type": "code",
   "execution_count": null,
   "metadata": {},
   "outputs": [],
   "source": [
    "prediction_avec_retard"
   ]
  },
  {
   "cell_type": "markdown",
   "metadata": {},
   "source": [
    "# TODO : \n",
    "\n",
    "- [x] Rajouter colonne avec pourcentage du chiffre d'affaire perdu \n",
    "- [x] Afficher nombre de vols en retard par compagnie \n",
    "- [x] combien de clients ils vont perdre : plus de 3h de retard --> taux d'attrition de 5% des clients\n",
    "- [x] fréquence moyenne de réservation de vol avec la compagnie (3fs/an) : 5%x3x(prix du billet)\n",
    "- [x] afficher le détail répartition des couts dans total à payer dans les graphes\n",
    "- [ ] NEXT STEPS "
   ]
  },
  {
   "cell_type": "markdown",
   "metadata": {},
   "source": [
    "# BILAN : TOTAL A PAYER"
   ]
  },
  {
   "cell_type": "code",
   "execution_count": null,
   "metadata": {},
   "outputs": [],
   "source": [
    "cost_of_delay_gb_airlines = prediction_avec_retard[[\"RETARD\", \"COMPAGNIES\",\"CHIFFRE D'AFFAIRE COMPAGNIE\",\n",
    "                                                    \"COUT DU RETARD\", \"INDEMNITES A PAYER\", \"NOMBRE DE CLIENTS PERDUS\", \n",
    "                                                    \"COUT DES CLIENTS PERDUS\"]]\\\n",
    "                            .groupby(['COMPAGNIES'], as_index=False)\\\n",
    "                            .agg({\n",
    "                                \"RETARD\" : \"count\",\n",
    "                                \"CHIFFRE D'AFFAIRE COMPAGNIE\":'first',\n",
    "                                \"COUT DU RETARD\":'sum',\n",
    "                                \"INDEMNITES A PAYER\":'sum',\n",
    "                                \"NOMBRE DE CLIENTS PERDUS\": \"sum\", \n",
    "                                \"COUT DES CLIENTS PERDUS\": \"sum\"\n",
    "                            }).rename(columns={\"RETARD\" : \"NOMBRE DE RETARD\"})"
   ]
  },
  {
   "cell_type": "code",
   "execution_count": null,
   "metadata": {},
   "outputs": [],
   "source": [
    "cost_of_delay_gb_airlines[\"TOTAL A PAYER\"] = cost_of_delay_gb_airlines[\"COUT DU RETARD\"]\\\n",
    "                                            + cost_of_delay_gb_airlines[\"INDEMNITES A PAYER\"]\\\n",
    "                                            + cost_of_delay_gb_airlines[\"COUT DES CLIENTS PERDUS\"]"
   ]
  },
  {
   "cell_type": "code",
   "execution_count": null,
   "metadata": {},
   "outputs": [],
   "source": [
    "cost_of_delay_gb_airlines[\"NV CHIFFRE D'AFFAIRE\"] = cost_of_delay_gb_airlines[\"CHIFFRE D'AFFAIRE COMPAGNIE\"]\\\n",
    "                                                    - cost_of_delay_gb_airlines[\"TOTAL A PAYER\"]"
   ]
  },
  {
   "cell_type": "code",
   "execution_count": null,
   "metadata": {},
   "outputs": [],
   "source": [
    "cost_of_delay_gb_airlines[\"%CHIFFRE D'AFFAIRE LOST\"] = \\\n",
    "(cost_of_delay_gb_airlines[\"TOTAL A PAYER\"]/cost_of_delay_gb_airlines[\"CHIFFRE D'AFFAIRE COMPAGNIE\"])*100"
   ]
  },
  {
   "cell_type": "code",
   "execution_count": null,
   "metadata": {},
   "outputs": [],
   "source": [
    "cost_of_delay_gb_airlines"
   ]
  },
  {
   "cell_type": "code",
   "execution_count": null,
   "metadata": {
    "scrolled": false
   },
   "outputs": [],
   "source": [
    "fig = px.bar(cost_of_delay_gb_airlines,\n",
    "             x=\"COMPAGNIES\",\n",
    "             y=[\"CHIFFRE D'AFFAIRE COMPAGNIE\", \"NV CHIFFRE D'AFFAIRE\"],\n",
    "             barmode='group',\n",
    "             title=\"Repartition du Chiffre d'affaire et cout total du retard par Compagnie\")\n",
    "fig.show()\n",
    "\n",
    "fig = px.bar(cost_of_delay_gb_airlines,\n",
    "             x=\"COMPAGNIES\",\n",
    "             y=[\"CHIFFRE D'AFFAIRE COMPAGNIE\", \"TOTAL A PAYER\", \"INDEMNITES A PAYER\",\"COUT DU RETARD\", \"COUT DES CLIENTS PERDUS\"],\n",
    "             barmode='group',\n",
    "             title=\"Repartition du Chiffre d'affaire et cout total du retard par Compagnie\")\n",
    "fig.show()"
   ]
  },
  {
   "cell_type": "code",
   "execution_count": null,
   "metadata": {},
   "outputs": [],
   "source": [
    "import plotly.graph_objects as go\n",
    "\n",
    "for idx, company in enumerate(cost_of_delay_gb_airlines[\"COMPAGNIES\"]):\n",
    "    labels = [\"NV CHIFFRE D'AFFAIRE\",\"TOTAL A PAYER\"]\n",
    "    values = [cost_of_delay_gb_airlines.iloc[idx][\"NV CHIFFRE D'AFFAIRE\"],\n",
    "              cost_of_delay_gb_airlines.iloc[idx][\"TOTAL A PAYER\"]]\n",
    "\n",
    "    fig = go.Figure(data=[go.Pie(labels=labels, values=values, pull=[0, 0, 0.2, 0])])\n",
    "    #fig.update_traces(hole=.4, hoverinfo=\"label+percent+name\")\n",
    "    fig.update_layout(title_text=company)\n",
    "    fig.show()"
   ]
  },
  {
   "cell_type": "code",
   "execution_count": null,
   "metadata": {},
   "outputs": [],
   "source": [
    "import plotly.graph_objects as go\n",
    "\n",
    "for idx, company in enumerate(cost_of_delay_gb_airlines[\"COMPAGNIES\"]):\n",
    "    labels = [\"NV CHIFFRE D'AFFAIRE\",\"INDEMNITES A PAYER\", \"COUT DES CLIENTS PERDUS\", \"COUT DU RETARD\"]\n",
    "    values = [cost_of_delay_gb_airlines.iloc[idx][\"NV CHIFFRE D'AFFAIRE\"],\n",
    "              cost_of_delay_gb_airlines.iloc[idx][\"INDEMNITES A PAYER\"],\n",
    "             cost_of_delay_gb_airlines.iloc[idx][\"COUT DES CLIENTS PERDUS\"],\n",
    "             cost_of_delay_gb_airlines.iloc[idx][\"COUT DU RETARD\"]]\n",
    "\n",
    "    fig = go.Figure(data=[go.Pie(labels=labels, values=values, pull=[0, 0, 0.2, 0])])\n",
    "    #fig.update_traces(hole=.4, hoverinfo=\"label+percent+name\")\n",
    "    fig.update_layout(title_text=company)\n",
    "    fig.show()"
   ]
  },
  {
   "cell_type": "code",
   "execution_count": null,
   "metadata": {},
   "outputs": [],
   "source": [
    "#INDEMNITES A PAYER , COUT DES CLIENTS PERDUS, COUT DU RETARD"
   ]
  }
 ],
 "metadata": {
  "kernelspec": {
   "display_name": "Python 3 (ipykernel)",
   "language": "python",
   "name": "python3"
  },
  "language_info": {
   "codemirror_mode": {
    "name": "ipython",
    "version": 3
   },
   "file_extension": ".py",
   "mimetype": "text/x-python",
   "name": "python",
   "nbconvert_exporter": "python",
   "pygments_lexer": "ipython3",
   "version": "3.9.7"
  }
 },
 "nbformat": 4,
 "nbformat_minor": 2
}
