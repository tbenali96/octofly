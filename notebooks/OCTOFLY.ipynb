{
 "cells": [
  {
   "cell_type": "code",
   "execution_count": null,
   "metadata": {},
   "outputs": [],
   "source": [
    "import pandas as pd \n",
    "import pandas_profiling as pp\n",
    "import plotly.express as px \n",
    "import sqlite3\n",
    "\n",
    "pd.options.display.max_columns = None"
   ]
  },
  {
   "cell_type": "markdown",
   "metadata": {},
   "source": [
    "## Import des datasets "
   ]
  },
  {
   "cell_type": "code",
   "execution_count": null,
   "metadata": {},
   "outputs": [],
   "source": [
    "df_aeroports = pd.read_parquet(\"../data/processed/train_data/aeroports.gzip\")\n",
    "df_compagnies = pd.read_parquet(\"../data/processed/train_data/compagnies.gzip\")\n",
    "df_vols = pd.read_parquet(\"../data/processed/train_data/vols.gzip\")\n",
    "df_fuel = pd.read_parquet(\"../data/processed/train_data/prix_fuel.gzip\")\n",
    "df_test = pd.read_parquet(\"../data/processed/test_data/vols.gzip\")"
   ]
  },
  {
   "cell_type": "code",
   "execution_count": null,
   "metadata": {},
   "outputs": [],
   "source": [
    "df_aeroports.head()"
   ]
  },
  {
   "cell_type": "code",
   "execution_count": null,
   "metadata": {},
   "outputs": [],
   "source": [
    "fig = px.box(df_aeroports, y=\"PRIX RETARD PREMIERE 20 MINUTES\", notched=True)\n",
    "fig.show()"
   ]
  },
  {
   "cell_type": "code",
   "execution_count": null,
   "metadata": {},
   "outputs": [],
   "source": [
    "fig = px.box(df_aeroports, y=\"PRIS RETARD POUR CHAQUE MINUTE APRES 10 MINUTES\", notched=True)\n",
    "fig.show()"
   ]
  },
  {
   "cell_type": "code",
   "execution_count": null,
   "metadata": {},
   "outputs": [],
   "source": [
    "df_compagnies.head()"
   ]
  },
  {
   "cell_type": "code",
   "execution_count": null,
   "metadata": {},
   "outputs": [],
   "source": [
    "df_compagnies['COMPAGNIE'].value_counts()"
   ]
  },
  {
   "cell_type": "code",
   "execution_count": null,
   "metadata": {},
   "outputs": [],
   "source": [
    "df_fuel.head()"
   ]
  },
  {
   "cell_type": "code",
   "execution_count": null,
   "metadata": {},
   "outputs": [],
   "source": [
    "df_fuel.nunique()"
   ]
  },
  {
   "cell_type": "code",
   "execution_count": null,
   "metadata": {},
   "outputs": [],
   "source": [
    "fig = px.histogram(df_fuel, x=\"PRIX DU BARIL\")\n",
    "fig.show()"
   ]
  },
  {
   "cell_type": "markdown",
   "metadata": {},
   "source": [
    "**Il y a une valeur unique du prix du baril. Ce dataset n'est donc pas pertinent à utiliser. Les deux tables \"VOLS\" et \"COMPAGNIES\" ne vont pas être utilisées dans le pre-processing mais vont être plutôt utilisées après les prédictions des retards pour évaluer l'impact financier des retards prévisibles durant la période des vols du dataset de test sur le CA des compagnies aériennes.**"
   ]
  },
  {
   "cell_type": "code",
   "execution_count": null,
   "metadata": {},
   "outputs": [],
   "source": [
    "df_vols.head()"
   ]
  },
  {
   "cell_type": "code",
   "execution_count": null,
   "metadata": {},
   "outputs": [],
   "source": [
    "df_vols.iloc[1,:]"
   ]
  },
  {
   "cell_type": "code",
   "execution_count": null,
   "metadata": {},
   "outputs": [],
   "source": [
    "vols_avec_annulation = df_vols[df_vols[\"ANNULATION\"]!=0]\n",
    "vols_avec_annulation.iloc[1,:]"
   ]
  },
  {
   "cell_type": "code",
   "execution_count": null,
   "metadata": {},
   "outputs": [],
   "source": [
    "vols_avec_detournement = df_vols[df_vols[\"DETOURNEMENT\"]!=0]\n",
    "vols_avec_detournement.iloc[3,:]"
   ]
  },
  {
   "cell_type": "code",
   "execution_count": null,
   "metadata": {},
   "outputs": [],
   "source": [
    "df_vols.nunique()"
   ]
  },
  {
   "cell_type": "code",
   "execution_count": null,
   "metadata": {},
   "outputs": [],
   "source": [
    "df_test.nunique()"
   ]
  },
  {
   "cell_type": "code",
   "execution_count": null,
   "metadata": {},
   "outputs": [],
   "source": [
    "print(df_vols[\"NIVEAU DE SECURITE\"].unique())\n",
    "print(df_test[\"NIVEAU DE SECURITE\"].unique())"
   ]
  },
  {
   "cell_type": "markdown",
   "metadata": {},
   "source": [
    "La colonne \"NIVEAU DE SECURITE\" a une unique valeur. Elle n'est donc pas pertinente. "
   ]
  },
  {
   "cell_type": "code",
   "execution_count": null,
   "metadata": {},
   "outputs": [],
   "source": [
    "df_vols = df_vols.drop(columns=[\"NIVEAU DE SECURITE\"])"
   ]
  },
  {
   "cell_type": "code",
   "execution_count": null,
   "metadata": {},
   "outputs": [],
   "source": [
    "df_vols[(df_vols[\"RETARD A L'ARRIVEE\"] > 0) & (df_vols[\"RETART DE DEPART\"] > 0)].head()"
   ]
  },
  {
   "cell_type": "code",
   "execution_count": null,
   "metadata": {},
   "outputs": [],
   "source": [
    "missing_columns_in_test_df = df_vols.columns.difference(df_test.columns)\n",
    "missing_columns_in_test_df"
   ]
  },
  {
   "cell_type": "code",
   "execution_count": null,
   "metadata": {},
   "outputs": [],
   "source": [
    "df_vols_train = df_vols.drop(columns=missing_columns_in_test_df)\n",
    "df_vols_train.head()"
   ]
  },
  {
   "cell_type": "markdown",
   "metadata": {},
   "source": [
    "On vérifie les valeurs manquantes dans les colonnes : "
   ]
  },
  {
   "cell_type": "code",
   "execution_count": null,
   "metadata": {},
   "outputs": [],
   "source": [
    "for column in df_vols_train.columns:\n",
    "    if df_vols_train[column].isnull().values.any():\n",
    "        print(column, df_vols_train[column].isnull().sum(), df_vols_train[column].isnull().sum()/df_vols_train.shape[0])"
   ]
  },
  {
   "cell_type": "markdown",
   "metadata": {},
   "source": [
    "Vu le pourcentage assez bas des valeurs manquantes, une suggestion est de supprimer les lignes correspondantes : "
   ]
  },
  {
   "cell_type": "code",
   "execution_count": null,
   "metadata": {},
   "outputs": [],
   "source": [
    "df_vols_train = df_vols_train.dropna()\n",
    "df_vols_train.shape"
   ]
  },
  {
   "cell_type": "code",
   "execution_count": null,
   "metadata": {},
   "outputs": [],
   "source": [
    "indexes_deleted = df_vols.index.difference(df_vols_train.index)\n",
    "indexes_deleted"
   ]
  },
  {
   "cell_type": "code",
   "execution_count": null,
   "metadata": {},
   "outputs": [],
   "source": [
    "df_vols = df_vols.drop(indexes_deleted)"
   ]
  },
  {
   "cell_type": "code",
   "execution_count": null,
   "metadata": {},
   "outputs": [],
   "source": [
    "df_vols.shape"
   ]
  },
  {
   "cell_type": "code",
   "execution_count": null,
   "metadata": {},
   "outputs": [],
   "source": [
    "df_vols = df_vols.reset_index(drop=True)\n",
    "df_vols_train = df_vols_train.reset_index(drop=True)"
   ]
  },
  {
   "cell_type": "code",
   "execution_count": null,
   "metadata": {},
   "outputs": [],
   "source": [
    "df_vols_train.head()"
   ]
  },
  {
   "cell_type": "code",
   "execution_count": null,
   "metadata": {},
   "outputs": [],
   "source": [
    "def formatter_date(x):\n",
    "    while len(x) < 4:\n",
    "        x = '0' + x\n",
    "    return pd.to_timedelta(x[:-2] + ':' + x[-2:] + ':00')"
   ]
  },
  {
   "cell_type": "code",
   "execution_count": null,
   "metadata": {},
   "outputs": [],
   "source": [
    "df_vols_train[\"ARRIVEE PROGRAMMEE\"] = df_vols_train[\"ARRIVEE PROGRAMMEE\"].astype(str).apply(lambda x: formatter_date(x))\n",
    "df_vols_train.head()"
   ]
  },
  {
   "cell_type": "code",
   "execution_count": null,
   "metadata": {},
   "outputs": [],
   "source": [
    "df_vols_train[\"DEPART PROGRAMME\"] = df_vols_train[\"DEPART PROGRAMME\"].astype(str).apply(lambda x: formatter_date(x))\n",
    "df_vols_train.head()"
   ]
  },
  {
   "cell_type": "code",
   "execution_count": null,
   "metadata": {},
   "outputs": [],
   "source": [
    "df_vols_train.dtypes"
   ]
  },
  {
   "cell_type": "code",
   "execution_count": null,
   "metadata": {},
   "outputs": [],
   "source": [
    "target = df_vols[missing_columns_in_test_df]"
   ]
  },
  {
   "cell_type": "code",
   "execution_count": null,
   "metadata": {},
   "outputs": [],
   "source": [
    "target.head()"
   ]
  },
  {
   "cell_type": "code",
   "execution_count": null,
   "metadata": {},
   "outputs": [],
   "source": [
    "target = target.reset_index(drop=True)"
   ]
  },
  {
   "cell_type": "code",
   "execution_count": null,
   "metadata": {},
   "outputs": [],
   "source": [
    "df_vols_train.head()"
   ]
  },
  {
   "cell_type": "code",
   "execution_count": null,
   "metadata": {},
   "outputs": [],
   "source": [
    "from sklearn.preprocessing import StandardScaler\n",
    "import numpy as np\n",
    "\n",
    "scaler_temps_programme = StandardScaler()\n",
    "scaler_temps_programme = scaler_temps_programme.fit(np.array(df_vols_train['TEMPS PROGRAMME']).reshape(-1,1))\n",
    "df_vols_train['TEMPS PROGRAMME'] = scaler_temps_programme.transform(np.array(df_vols_train['TEMPS PROGRAMME']).reshape(-1,1))\n",
    "df_vols_train.head()"
   ]
  },
  {
   "cell_type": "code",
   "execution_count": null,
   "metadata": {},
   "outputs": [],
   "source": [
    "scaler_distance = StandardScaler()\n",
    "scaler_distance = scaler_distance.fit(np.array(df_vols_train['DISTANCE']).reshape(-1,1))\n",
    "df_vols_train['DISTANCE'] = scaler_distance.transform(np.array(df_vols_train['DISTANCE']).reshape(-1,1))\n",
    "df_vols_train.head()"
   ]
  },
  {
   "cell_type": "code",
   "execution_count": null,
   "metadata": {},
   "outputs": [],
   "source": [
    "scaler = StandardScaler()\n",
    "scaler = scaler.fit(np.array(df_vols_train['TEMPS DE DEPLACEMENT A TERRE AU DECOLLAGE']).reshape(-1,1))\n",
    "df_vols_train['TEMPS DE DEPLACEMENT A TERRE AU DECOLLAGE'] = scaler.transform(np.array(df_vols_train['TEMPS DE DEPLACEMENT A TERRE AU DECOLLAGE']).reshape(-1,1))\n",
    "df_vols_train.head()"
   ]
  },
  {
   "cell_type": "code",
   "execution_count": null,
   "metadata": {},
   "outputs": [],
   "source": [
    "scaler = StandardScaler()\n",
    "scaler = scaler.fit(np.array(df_vols_train[\"TEMPS DE DEPLACEMENT A TERRE A L'ATTERRISSAGE\"]).reshape(-1,1))\n",
    "df_vols_train[\"TEMPS DE DEPLACEMENT A TERRE A L'ATTERRISSAGE\"] = scaler.transform(np.array(df_vols_train[\"TEMPS DE DEPLACEMENT A TERRE A L'ATTERRISSAGE\"]).reshape(-1,1))\n",
    "df_vols_train.head()"
   ]
  },
  {
   "cell_type": "code",
   "execution_count": null,
   "metadata": {},
   "outputs": [],
   "source": [
    "scaler = StandardScaler()\n",
    "scaler = scaler.fit(np.array(df_vols_train[\"NOMBRE DE PASSAGERS\"]).reshape(-1,1))\n",
    "df_vols_train[\"NOMBRE DE PASSAGERS\"] = scaler.transform(np.array(df_vols_train[\"NOMBRE DE PASSAGERS\"]).reshape(-1,1))\n",
    "df_vols_train.head()"
   ]
  },
  {
   "cell_type": "code",
   "execution_count": null,
   "metadata": {},
   "outputs": [],
   "source": [
    "df_vols_train.nunique()"
   ]
  },
  {
   "cell_type": "code",
   "execution_count": null,
   "metadata": {},
   "outputs": [],
   "source": [
    "df_vols_train['DAY OF THE WEEK'] = df_vols_train['DATE'].dt.dayofweek + 1"
   ]
  },
  {
   "cell_type": "code",
   "execution_count": null,
   "metadata": {},
   "outputs": [],
   "source": [
    "df_vols_train.head()"
   ]
  },
  {
   "cell_type": "code",
   "execution_count": null,
   "metadata": {},
   "outputs": [],
   "source": [
    "def check_weekend(x):\n",
    "    return 1 if x>5 else 0\n",
    "    \n",
    "df_vols_train['WEEKEND'] = df_vols_train['DAY OF THE WEEK'].apply(lambda x: check_weekend(x))"
   ]
  },
  {
   "cell_type": "code",
   "execution_count": null,
   "metadata": {},
   "outputs": [],
   "source": [
    "df_vols_train.head()"
   ]
  },
  {
   "cell_type": "code",
   "execution_count": null,
   "metadata": {},
   "outputs": [],
   "source": [
    "df_vols_train['MONTH'] = df_vols_train['DATE'].dt.month"
   ]
  },
  {
   "cell_type": "code",
   "execution_count": null,
   "metadata": {},
   "outputs": [],
   "source": [
    "df_vols_train.head()"
   ]
  },
  {
   "cell_type": "code",
   "execution_count": null,
   "metadata": {},
   "outputs": [],
   "source": [
    "df_vols_train['DAY OF THE MONTH'] = df_vols_train['DATE'].dt.day"
   ]
  },
  {
   "cell_type": "code",
   "execution_count": null,
   "metadata": {},
   "outputs": [],
   "source": [
    "df_vols_train.head()"
   ]
  },
  {
   "cell_type": "code",
   "execution_count": null,
   "metadata": {},
   "outputs": [],
   "source": []
  },
  {
   "cell_type": "code",
   "execution_count": null,
   "metadata": {},
   "outputs": [],
   "source": []
  }
 ],
 "metadata": {
  "kernelspec": {
   "display_name": "Python 3 (ipykernel)",
   "language": "python",
   "name": "python3"
  },
  "language_info": {
   "codemirror_mode": {
    "name": "ipython",
    "version": 3
   },
   "file_extension": ".py",
   "mimetype": "text/x-python",
   "name": "python",
   "nbconvert_exporter": "python",
   "pygments_lexer": "ipython3",
   "version": "3.9.7"
  }
 },
 "nbformat": 4,
 "nbformat_minor": 4
}
